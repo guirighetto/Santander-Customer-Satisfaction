{
 "cells": [
  {
   "cell_type": "code",
   "execution_count": 38,
   "metadata": {},
   "outputs": [],
   "source": [
    "import pandas as pd\n",
    "import numpy as np\n",
    "\n",
    "from sklearn import ensemble\n",
    "from sklearn import model_selection\n",
    "from sklearn import metrics\n",
    "from sklearn import preprocessing\n",
    "from sklearn import decomposition\n",
    "from sklearn import feature_selection\n",
    "from sklearn import calibration\n",
    "\n",
    "import time\n",
    "\n",
    "seed = 42\n",
    "grid = False"
   ]
  },
  {
   "cell_type": "code",
   "execution_count": 39,
   "metadata": {},
   "outputs": [],
   "source": [
    "df_train = pd.read_csv(\"dataset/train.csv\")\n",
    "df_test = pd.read_csv(\"dataset/test.csv\")"
   ]
  },
  {
   "cell_type": "code",
   "execution_count": 40,
   "metadata": {},
   "outputs": [],
   "source": [
    "df_train = df_train.loc[:, (df_train != df_train.iloc[0]).any()]\n",
    "df_train = df_train.T.drop_duplicates().T\n",
    "df_test = df_test[df_train.drop(\"TARGET\", axis=1).columns]"
   ]
  },
  {
   "cell_type": "code",
   "execution_count": 41,
   "metadata": {},
   "outputs": [],
   "source": [
    "y_data = df_train[\"TARGET\"].values\n",
    "df_train.drop([\"ID\", \"TARGET\"], axis=1, inplace=True)\n",
    "x_data = df_train"
   ]
  },
  {
   "cell_type": "code",
   "execution_count": 42,
   "metadata": {},
   "outputs": [],
   "source": [
    "id_test = df_test[\"ID\"].values\n",
    "x_test = df_test.drop([\"ID\"], axis=1)"
   ]
  },
  {
   "cell_type": "code",
   "execution_count": 43,
   "metadata": {},
   "outputs": [],
   "source": [
    "x_data_norm = preprocessing.normalize(x_data, axis=0, norm=\"l2\")\n",
    "x_test_norm = preprocessing.normalize(x_test, axis=0, norm=\"l2\")"
   ]
  },
  {
   "cell_type": "code",
   "execution_count": 44,
   "metadata": {},
   "outputs": [],
   "source": [
    "pca = decomposition.PCA(5)\n",
    "x_data_pca = pca.fit_transform(x_data_norm)\n",
    "x_test_pca = pca.transform(x_test_norm)"
   ]
  },
  {
   "cell_type": "code",
   "execution_count": 47,
   "metadata": {},
   "outputs": [],
   "source": [
    "x_data[\"pca_0\"] = x_data_pca[:,0]\n",
    "x_data[\"pca_1\"] = x_data_pca[:,1]\n",
    "x_data[\"pca_2\"] = x_data_pca[:,2]\n",
    "x_data[\"pca_3\"] = x_data_pca[:,3]\n",
    "x_data[\"pca_4\"] = x_data_pca[:,4]"
   ]
  },
  {
   "cell_type": "code",
   "execution_count": 49,
   "metadata": {},
   "outputs": [],
   "source": [
    "x_test[\"pca_0\"] = x_test_pca[:,0]\n",
    "x_test[\"pca_1\"] = x_test_pca[:,1]\n",
    "x_test[\"pca_2\"] = x_test_pca[:,2]\n",
    "x_test[\"pca_3\"] = x_test_pca[:,3]\n",
    "x_test[\"pca_4\"] = x_test_pca[:,4]"
   ]
  },
  {
   "cell_type": "code",
   "execution_count": 50,
   "metadata": {},
   "outputs": [],
   "source": [
    "x_data_norm = preprocessing.normalize(x_data, axis=0, norm=\"l2\")\n",
    "x_test_norm = preprocessing.normalize(x_test, axis=0, norm=\"l2\")"
   ]
  },
  {
   "cell_type": "code",
   "execution_count": 51,
   "metadata": {},
   "outputs": [],
   "source": [
    "model_extra_tree = ensemble.ExtraTreesClassifier(class_weight=\"balanced\", random_state=seed)\n",
    "model_extra_tree_fitted = model_extra_tree.fit(x_data_norm, y_data)"
   ]
  },
  {
   "cell_type": "code",
   "execution_count": 52,
   "metadata": {},
   "outputs": [],
   "source": [
    "model_select_feat = feature_selection.SelectFromModel(model_extra_tree_fitted, prefit=True)\n",
    "\n",
    "x_data_norm = model_select_feat.transform(x_data_norm)\n",
    "x_test_norm = model_select_feat.transform(x_test_norm)"
   ]
  },
  {
   "cell_type": "code",
   "execution_count": 48,
   "metadata": {},
   "outputs": [
    {
     "name": "stdout",
     "output_type": "stream",
     "text": [
      "Melhor Acurácia: 0.960445 utilizando {'learning_rate': 0.01, 'max_depth': 3, 'n_estimators': 200}\n"
     ]
    }
   ],
   "source": [
    "if(grid):\n",
    "    model_gradient_boosting = ensemble.GradientBoostingClassifier()\n",
    "\n",
    "    n_estimators_values = [200, 300, 400, 500]\n",
    "    learning_rate_values = [0.01, 0.001]\n",
    "    max_depth_values = [3, 6, 9]\n",
    "\n",
    "    grid = {\"n_estimators\": n_estimators_values, \n",
    "            \"learning_rate\": learning_rate_values,\n",
    "            \"max_depth\": max_depth_values\n",
    "           }\n",
    "\n",
    "    kfold = model_selection.KFold(3, True, random_state=seed)\n",
    "\n",
    "    grid_search = model_selection.GridSearchCV(estimator=model_gradient_boosting, param_grid=grid, cv=kfold, scoring='accuracy', n_jobs=8)\n",
    "    grid_result = grid_search.fit(x_data, y_data)\n",
    "\n",
    "    print(\"Accuracy: %f. Best params: %s\" % (grid_result.best_score_, grid_result.best_params_))"
   ]
  },
  {
   "cell_type": "code",
   "execution_count": 53,
   "metadata": {},
   "outputs": [
    {
     "data": {
      "text/plain": [
       "CalibratedClassifierCV(base_estimator=GradientBoostingClassifier(criterion='friedman_mse', init=None,\n",
       "              learning_rate=0.01, loss='deviance', max_depth=3,\n",
       "              max_features=None, max_leaf_nodes=None,\n",
       "              min_impurity_decrease=0.0, min_impurity_split=None,\n",
       "              min_samples_leaf=1, min_samples_split=2,\n",
       "              min_weight_fraction_leaf=0.0, n_estimators=200,\n",
       "              presort='auto', random_state=42, subsample=0.95, verbose=0,\n",
       "              warm_start=False),\n",
       "            cv=10, method='isotonic')"
      ]
     },
     "execution_count": 53,
     "metadata": {},
     "output_type": "execute_result"
    }
   ],
   "source": [
    "model_gradient_boosting = ensemble.GradientBoostingClassifier(n_estimators=200, learning_rate=0.01, max_depth=3, subsample=0.95, random_state=seed)\n",
    "model_calibrated = calibration.CalibratedClassifierCV(model_gradient_boosting, method='isotonic', cv=10)\n",
    "\n",
    "model_calibrated.fit(x_data_norm, y_data)"
   ]
  },
  {
   "cell_type": "code",
   "execution_count": 54,
   "metadata": {},
   "outputs": [],
   "source": [
    "model_predict_proba = model_calibrated.predict_proba(x_test_norm)\n",
    "\n",
    "df_sub = pd.DataFrame({\"ID\":id_test, \"TARGET\": model_predict_proba[:,1]})\n",
    "df_sub.to_csv(\"submission1.csv\", index=False)"
   ]
  }
 ],
 "metadata": {
  "kernelspec": {
   "display_name": "Python 3",
   "language": "python",
   "name": "python3"
  },
  "language_info": {
   "codemirror_mode": {
    "name": "ipython",
    "version": 3
   },
   "file_extension": ".py",
   "mimetype": "text/x-python",
   "name": "python",
   "nbconvert_exporter": "python",
   "pygments_lexer": "ipython3",
   "version": "3.6.5"
  }
 },
 "nbformat": 4,
 "nbformat_minor": 2
}
